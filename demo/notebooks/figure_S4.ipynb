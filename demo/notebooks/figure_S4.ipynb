{
 "cells": [
  {
   "cell_type": "code",
   "execution_count": 2,
   "id": "2b8aa6af-bf93-480e-8dba-d94fd652de65",
   "metadata": {},
   "outputs": [],
   "source": [
    "import numpy as np\n",
    "import matplotlib.pyplot as plt\n",
    "import seaborn as sns\n",
    "import os\n",
    "\n",
    "from config import CACHE, FIGURES\n",
    "from code_.encoding_score.regression.scores_tools import compute_bootstrap_distribution\n",
    "\n",
    "device = 'cuda'"
   ]
  },
  {
   "cell_type": "code",
   "execution_count": 8,
   "id": "34f22516",
   "metadata": {},
   "outputs": [],
   "source": [
    "# choose dataset\n",
    "\n",
    "batch_size = 10\n",
    "dataset = 'majajhong_demo'\n",
    "subjects = ['Tito','Chabo']\n",
    "n_bootstraps = 100\n",
    "n_rows = 10\n",
    "region = 'IT'\n",
    "features = 3"
   ]
  },
  {
   "cell_type": "code",
   "execution_count": 9,
   "id": "42e94a56",
   "metadata": {},
   "outputs": [],
   "source": [
    "all_sampled_indices = np.random.choice(n_rows, (n_bootstraps, n_rows), replace=True) "
   ]
  },
  {
   "cell_type": "code",
   "execution_count": 13,
   "id": "2862806d-70a7-4cad-aa30-fd60dadbd4f8",
   "metadata": {},
   "outputs": [
    {
     "name": "stderr",
     "output_type": "stream",
     "text": [
      " 50%|█████     | 1/2 [00:00<00:00,  1.23it/s]"
     ]
    },
    {
     "name": "stderr",
     "output_type": "stream",
     "text": [
      "100%|██████████| 2/2 [00:01<00:00,  1.24it/s]\n",
      "100%|██████████| 2/2 [00:01<00:00,  1.27it/s]\n",
      "100%|██████████| 2/2 [00:01<00:00,  1.25it/s]\n"
     ]
    }
   ],
   "source": [
    "activations_identifier = 'alexnet_expansion_joint'\n",
    "bootstrap_dist_joint = compute_bootstrap_distribution(activations_identifier, subjects, region,\n",
    "                                        all_sampled_indices, batch_size, \n",
    "                                        n_bootstraps, dataset, device)\n",
    "\n",
    "activations_identifier = f'expansion_features={features}_layers=5_dataset={dataset}_principal_components=100'\n",
    "bootstrap_dist_expansion = compute_bootstrap_distribution(activations_identifier, subjects, region,\n",
    "                                        all_sampled_indices, batch_size, \n",
    "                                        n_bootstraps, dataset, device)\n",
    "\n",
    "activations_identifier = f'alexnet_trained_features=None_layers=5_dataset={dataset}_principal_components=100'\n",
    "bootstrap_dist_alexnet = compute_bootstrap_distribution(activations_identifier, subjects, region,\n",
    "                                        all_sampled_indices, batch_size, \n",
    "                                        n_bootstraps, dataset, device)\n",
    "\n"
   ]
  },
  {
   "cell_type": "code",
   "execution_count": 14,
   "id": "69766ab5-ca57-4448-a263-e96a5ca845e7",
   "metadata": {},
   "outputs": [
    {
     "name": "stdout",
     "output_type": "stream",
     "text": [
      "0.41196713\n",
      "0.0755098\n",
      "0.4119689\n"
     ]
    }
   ],
   "source": [
    "r_all = bootstrap_dist_joint.mean().cpu().numpy() **2\n",
    "r_expansion = bootstrap_dist_expansion.mean().cpu().numpy() **2\n",
    "r_alexnet = bootstrap_dist_alexnet.mean().cpu().numpy() **2\n",
    "\n",
    "print(r_alexnet)\n",
    "print(r_expansion)\n",
    "print(r_all)\n",
    "\n",
    "uniq_var_alexnet = r_all - r_expansion\n",
    "uniq_var_expansion = r_all - r_alexnet\n",
    "shared_var = (r_expansion + r_alexnet) - r_all\n",
    "\n",
    "names = ['Expansion', 'AlexNet','Shared']\n",
    "\n",
    "values = [uniq_var_expansion, uniq_var_alexnet, shared_var]"
   ]
  },
  {
   "cell_type": "code",
   "execution_count": 15,
   "id": "d0c76e1e-5b9a-42de-acbd-0656a23e2b32",
   "metadata": {},
   "outputs": [
    {
     "data": {
      "image/png": "[encoded data removed]",
      "text/plain": [
       "<Figure size 600x600 with 1 Axes>"
      ]
     },
     "metadata": {},
     "output_type": "display_data"
    }
   ],
   "source": [
    "# Initialize the figure\n",
    "plt.figure(figsize=(6, 6))\n",
    "\n",
    "color_map = {\n",
    "    'Expansion': 'royalblue',   \n",
    "    'AlexNet':  'gray',   \n",
    "    'Shared': 'mediumseagreen',  \n",
    "}\n",
    "\n",
    "palette = [color_map[n] for n in names]\n",
    "# Plot the connectivity analysis without 'Linear' model\n",
    "ax1 = sns.barplot(\n",
    "    x=names, \n",
    "    y=values, \n",
    "    palette=palette,\n",
    "    width=0.5\n",
    ")\n",
    "# Optional: Add labels and title for better understanding\n",
    "ax1.set_title(f'Variance partitioning: {dataset} {region}')\n",
    "\n",
    "ymin, ymax = 0.0, 0.04\n",
    "step = 0.01\n",
    "yticks = np.arange(ymin, ymax + step, step)\n",
    "ax1.set_yticks(yticks)\n",
    "\n",
    "ax1.tick_params(axis='x', labelsize=14)   # x-ticks at size 14\n",
    "ax1.tick_params(axis='y', labelsize=14)                # y-ticks at size 14\n",
    "\n",
    "# Axis labels\n",
    "ax1.set_xlabel('Model Names', fontsize=16)\n",
    "ax1.set_ylabel('R squared', fontsize=16)\n",
    "\n",
    "\n",
    "# Show the plot\n",
    "plt.tight_layout()\n",
    "plt.show()"
   ]
  },
  {
   "cell_type": "code",
   "execution_count": null,
   "id": "106f230c-89ef-4d73-97a1-646cd8895d36",
   "metadata": {},
   "outputs": [],
   "source": []
  }
 ],
 "metadata": {
  "kernelspec": {
   "display_name": "expansion_model",
   "language": "python",
   "name": "python3"
  },
  "language_info": {
   "codemirror_mode": {
    "name": "ipython",
    "version": 3
   },
   "file_extension": ".py",
   "mimetype": "text/x-python",
   "name": "python",
   "nbconvert_exporter": "python",
   "pygments_lexer": "ipython3",
   "version": "3.12.0"
  }
 },
 "nbformat": 4,
 "nbformat_minor": 5
}
