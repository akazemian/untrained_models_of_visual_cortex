{
 "cells": [
  {
   "cell_type": "code",
   "execution_count": 1,
   "id": "4a9d5249-5165-4c4e-bbd3-886274bb4318",
   "metadata": {
    "editable": true,
    "slideshow": {
     "slide_type": ""
    },
    "tags": []
   },
   "outputs": [],
   "source": [
    "import torch\n",
    "from expansion import Expansion5L\n",
    "from vit_trained import ViT\n",
    "image = torch.rand(1,3,224,224)"
   ]
  },
  {
   "cell_type": "code",
   "execution_count": 2,
   "id": "ee6a010a-5336-4e00-9f0e-dcb401d5af7a",
   "metadata": {
    "editable": true,
    "slideshow": {
     "slide_type": ""
    },
    "tags": []
   },
   "outputs": [],
   "source": [
    "device = 'cuda'\n",
    "vit = ViT(features_layer=11, device = device).build()"
   ]
  },
  {
   "cell_type": "code",
   "execution_count": 4,
   "id": "90c19048-3e07-42ca-b105-25979f999830",
   "metadata": {
    "editable": true,
    "slideshow": {
     "slide_type": ""
    },
    "tags": []
   },
   "outputs": [
    {
     "name": "stdout",
     "output_type": "stream",
     "text": [
      "test shape torch.Size([1, 151296])\n",
      "torch.Size([1, 151296])\n"
     ]
    }
   ],
   "source": [
    "features = vit(image.to(device))\n",
    "print(features.shape)"
   ]
  },
  {
   "cell_type": "code",
   "execution_count": null,
   "id": "41ce7c59",
   "metadata": {},
   "outputs": [],
   "source": []
  }
 ],
 "metadata": {
  "kernelspec": {
   "display_name": "repo_test",
   "language": "python",
   "name": "python3"
  },
  "language_info": {
   "codemirror_mode": {
    "name": "ipython",
    "version": 3
   },
   "file_extension": ".py",
   "mimetype": "text/x-python",
   "name": "python",
   "nbconvert_exporter": "python",
   "pygments_lexer": "ipython3",
   "version": "3.12.3"
  }
 },
 "nbformat": 4,
 "nbformat_minor": 5
}
