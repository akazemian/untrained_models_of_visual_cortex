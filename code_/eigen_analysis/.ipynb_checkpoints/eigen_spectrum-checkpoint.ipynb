{
 "cells": [
  {
   "cell_type": "code",
   "execution_count": 10,
   "id": "2c2cf5f9-8e95-438b-a167-99912082985c",
   "metadata": {},
   "outputs": [],
   "source": [
    "import os\n",
    "import pickle\n",
    "\n",
    "import matplotlib.pyplot as plt\n",
    "from matplotlib import rcParams\n",
    "import matplotlib.colors as mcolors\n",
    "\n",
    "from code_.model_activations.models.configs import model_cfg as cfg\n",
    "from code_.model_activations.models.utils import load_full_identifier\n",
    "from code_.eigen_analysis.tools import *\n",
    "from code_.encoding_score.regression.scores_tools import write_powers\n",
    "\n",
    "from pathlib import Path\n",
    "\n",
    "from config import CACHE\n",
    "PCA_PATH = CACHE/'pca'"
   ]
  },
  {
   "cell_type": "code",
   "execution_count": 2,
   "id": "3420359f-efe6-4f58-ba93-8e3a7ce9efd5",
   "metadata": {},
   "outputs": [],
   "source": [
    "iden = load_full_identifier(model_name='expansion', \n",
    "                 features=3000, \n",
    "                 layers=5, \n",
    "                 dataset='naturalscenes')\n",
    "\n",
    "file_path = f'{PCA_PATH}/{iden}_principal_components=None'\n",
    "with open(file_path, 'rb') as f:\n",
    "    pca = pickle.load(f)\n",
    "explained_variance = pca.explained_variance_ratio_"
   ]
  },
  {
   "cell_type": "code",
   "execution_count": 37,
   "id": "5d71b755-b580-4bfc-9fd2-c486b7a9ce01",
   "metadata": {},
   "outputs": [
    {
     "ename": "FileNotFoundError",
     "evalue": "[Errno 2] No such file or directory: '/data/atlas/.repo_cache_10/pca/expansion_features=3_layers=5_dataset=majajhong'",
     "output_type": "error",
     "traceback": [
      "\u001b[0;31m---------------------------------------------------------------------------\u001b[0m",
      "\u001b[0;31mFileNotFoundError\u001b[0m                         Traceback (most recent call last)",
      "Cell \u001b[0;32mIn[37], line 49\u001b[0m\n\u001b[1;32m     43\u001b[0m iden \u001b[38;5;241m=\u001b[39m load_full_identifier(model_name\u001b[38;5;241m=\u001b[39mmodel_name, \n\u001b[1;32m     44\u001b[0m          features\u001b[38;5;241m=\u001b[39mf, \n\u001b[1;32m     45\u001b[0m          layers\u001b[38;5;241m=\u001b[39m\u001b[38;5;241m5\u001b[39m, \n\u001b[1;32m     46\u001b[0m          dataset\u001b[38;5;241m=\u001b[39mdataset)\n\u001b[1;32m     48\u001b[0m file_path \u001b[38;5;241m=\u001b[39m \u001b[38;5;124mf\u001b[39m\u001b[38;5;124m'\u001b[39m\u001b[38;5;124m/data/atlas/.repo_cache_10/pca/\u001b[39m\u001b[38;5;132;01m{\u001b[39;00miden\u001b[38;5;132;01m}\u001b[39;00m\u001b[38;5;124m'\u001b[39m\n\u001b[0;32m---> 49\u001b[0m \u001b[38;5;28;01mwith\u001b[39;00m \u001b[38;5;28;43mopen\u001b[39;49m\u001b[43m(\u001b[49m\u001b[43mfile_path\u001b[49m\u001b[43m,\u001b[49m\u001b[43m \u001b[49m\u001b[38;5;124;43m'\u001b[39;49m\u001b[38;5;124;43mrb\u001b[39;49m\u001b[38;5;124;43m'\u001b[39;49m\u001b[43m)\u001b[49m \u001b[38;5;28;01mas\u001b[39;00m file:\n\u001b[1;32m     50\u001b[0m     pca \u001b[38;5;241m=\u001b[39m pickle\u001b[38;5;241m.\u001b[39mload(file)\n\u001b[1;32m     51\u001b[0m plot_eigspec(pca\u001b[38;5;241m.\u001b[39mexplained_variance_, \u001b[38;5;124mf\u001b[39m\u001b[38;5;124m'\u001b[39m\u001b[38;5;132;01m{\u001b[39;00mmodel_name\u001b[38;5;132;01m}\u001b[39;00m\u001b[38;5;124m_\u001b[39m\u001b[38;5;132;01m{\u001b[39;00mf\u001b[38;5;132;01m}\u001b[39;00m\u001b[38;5;124m'\u001b[39m, palette[model_name][j])\n",
      "File \u001b[0;32m/data/shared/miniconda3/envs/repo_test/lib/python3.12/site-packages/IPython/core/interactiveshell.py:324\u001b[0m, in \u001b[0;36m_modified_open\u001b[0;34m(file, *args, **kwargs)\u001b[0m\n\u001b[1;32m    317\u001b[0m \u001b[38;5;28;01mif\u001b[39;00m file \u001b[38;5;129;01min\u001b[39;00m {\u001b[38;5;241m0\u001b[39m, \u001b[38;5;241m1\u001b[39m, \u001b[38;5;241m2\u001b[39m}:\n\u001b[1;32m    318\u001b[0m     \u001b[38;5;28;01mraise\u001b[39;00m \u001b[38;5;167;01mValueError\u001b[39;00m(\n\u001b[1;32m    319\u001b[0m         \u001b[38;5;124mf\u001b[39m\u001b[38;5;124m\"\u001b[39m\u001b[38;5;124mIPython won\u001b[39m\u001b[38;5;124m'\u001b[39m\u001b[38;5;124mt let you open fd=\u001b[39m\u001b[38;5;132;01m{\u001b[39;00mfile\u001b[38;5;132;01m}\u001b[39;00m\u001b[38;5;124m by default \u001b[39m\u001b[38;5;124m\"\u001b[39m\n\u001b[1;32m    320\u001b[0m         \u001b[38;5;124m\"\u001b[39m\u001b[38;5;124mas it is likely to crash IPython. If you know what you are doing, \u001b[39m\u001b[38;5;124m\"\u001b[39m\n\u001b[1;32m    321\u001b[0m         \u001b[38;5;124m\"\u001b[39m\u001b[38;5;124myou can use builtins\u001b[39m\u001b[38;5;124m'\u001b[39m\u001b[38;5;124m open.\u001b[39m\u001b[38;5;124m\"\u001b[39m\n\u001b[1;32m    322\u001b[0m     )\n\u001b[0;32m--> 324\u001b[0m \u001b[38;5;28;01mreturn\u001b[39;00m \u001b[43mio_open\u001b[49m\u001b[43m(\u001b[49m\u001b[43mfile\u001b[49m\u001b[43m,\u001b[49m\u001b[43m \u001b[49m\u001b[38;5;241;43m*\u001b[39;49m\u001b[43margs\u001b[49m\u001b[43m,\u001b[49m\u001b[43m \u001b[49m\u001b[38;5;241;43m*\u001b[39;49m\u001b[38;5;241;43m*\u001b[39;49m\u001b[43mkwargs\u001b[49m\u001b[43m)\u001b[49m\n",
      "\u001b[0;31mFileNotFoundError\u001b[0m: [Errno 2] No such file or directory: '/data/atlas/.repo_cache_10/pca/expansion_features=3_layers=5_dataset=majajhong'"
     ]
    }
   ],
   "source": [
    "rcParams['figure.figsize'] = (9,9)  \n",
    "\n",
    "\n",
    "i = 0\n",
    "#label = [f'Features = {write_powers(2)}',f'Features = {write_powers(3)}',f'Features = {write_powers(4)}',f'Features = {write_powers(5)}']\n",
    "#limit_list = [100,1000,10000,100000]\n",
    "label = ['']\n",
    "color_list = []\n",
    "\n",
    "# Sample 5 colors from the 'Blues' colormap\n",
    "# Convert RGBA colors to hexadecimal format using matplotlib.colors\n",
    "# Sample 5 colors from the 'Blues' colormap\n",
    "blues = []\n",
    "colors = plt.cm.Blues([0.2, 0.4, 0.6, 0.8])\n",
    "hex_colors = [mcolors.rgb2hex(color) for color in colors]\n",
    "for c, hex_color in enumerate(hex_colors):\n",
    "    blues.append(hex_color)\n",
    "\n",
    "greens = []\n",
    "colors = plt.cm.Greens([0.2, 0.4, 0.6, 0.8])\n",
    "hex_colors = [mcolors.rgb2hex(color) for color in colors]\n",
    "for c, hex_color in enumerate(hex_colors):\n",
    "    greens.append(hex_color)\n",
    "\n",
    "reds = []\n",
    "colors = plt.cm.Reds([0.2, 0.4, 0.6, 0.8])\n",
    "hex_colors = [mcolors.rgb2hex(color) for color in colors]\n",
    "for c, hex_color in enumerate(hex_colors):\n",
    "    reds.append(hex_color)\n",
    "\n",
    "\n",
    "models = ['expansion','fully_connected','vit']\n",
    "dataset = 'majajhong'\n",
    "palette = {'expansion':greens,\n",
    "           'fully_connected':reds,\n",
    "           'vit':blues,\n",
    "          }\n",
    "\n",
    "for i, model_name in enumerate(models):\n",
    "    \n",
    "    for j, f in enumerate(cfg[dataset]['models'][model_name]['features']):\n",
    "                    \n",
    "        iden = load_full_identifier(model_name=model_name, \n",
    "                 features=f, \n",
    "                 layers=5, \n",
    "                 dataset=dataset)\n",
    "    \n",
    "        file_path = f'/data/atlas/.repo_cache_10/pca/{iden}'\n",
    "        with open(file_path, 'rb') as file:\n",
    "            pca = pickle.load(file)\n",
    "        plot_eigspec(pca.explained_variance_, f'{model_name}_{f}', palette[model_name][j])\n",
    "        i += 1\n",
    "    \n",
    "    plt.ylim(0.0000001,0)\n",
    "    plt.xticks(size=15)\n",
    "    plt.yticks(size=15)\n",
    "    plt.legend(frameon=False,fontsize=12)\n",
    "    plt.savefig(f'eig_spec_comparison.png', bbox_inches='tight', dpi=100) "
   ]
  },
  {
   "cell_type": "code",
   "execution_count": null,
   "id": "01a29e80-bbb1-41be-b817-2699a80c4d17",
   "metadata": {},
   "outputs": [],
   "source": []
  }
 ],
 "metadata": {
  "kernelspec": {
   "display_name": "Python 3 (ipykernel)",
   "language": "python",
   "name": "python3"
  },
  "language_info": {
   "codemirror_mode": {
    "name": "ipython",
    "version": 3
   },
   "file_extension": ".py",
   "mimetype": "text/x-python",
   "name": "python",
   "nbconvert_exporter": "python",
   "pygments_lexer": "ipython3",
   "version": "3.12.3"
  }
 },
 "nbformat": 4,
 "nbformat_minor": 5
}
