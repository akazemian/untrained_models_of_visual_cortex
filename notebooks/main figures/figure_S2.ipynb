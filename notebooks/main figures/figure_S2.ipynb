{
 "cells": [
  {
   "cell_type": "code",
   "execution_count": 5,
   "id": "86e6f508-7410-4016-943f-39126a893616",
   "metadata": {},
   "outputs": [],
   "source": [
    "import os\n",
    "from code_.additional_analysis.rsa import compute_rsa_majajhong, compute_rsa_nsd\n",
    "from code_.model_activations.loading import load_full_identifier\n",
    "from config import FIGURES_ADDITIONAL\n",
    "from code_.model_activations.configs import model_cfg as cfg"
   ]
  },
  {
   "cell_type": "code",
   "execution_count": 6,
   "id": "dfb958c3",
   "metadata": {},
   "outputs": [],
   "source": [
    "dataset = 'majajhong'\n",
    "region = 'IT'\n",
    "\n",
    "# dataset = 'naturalscenes'\n",
    "# region = 'ventral visual stream'"
   ]
  },
  {
   "cell_type": "code",
   "execution_count": 7,
   "id": "ca7ad4aa-c282-46d6-80e0-6f6d4a5a797a",
   "metadata": {},
   "outputs": [
    {
     "name": "stdout",
     "output_type": "stream",
     "text": [
      "computing RSA for model: expansion\n",
      "/data/atlas/.repo_cache_10 expansion_features=3_layers=5_dataset=majajhong\n"
     ]
    },
    {
     "name": "stderr",
     "output_type": "stream",
     "text": [
      "  0%|          | 0/2 [00:00<?, ?it/s]"
     ]
    },
    {
     "name": "stderr",
     "output_type": "stream",
     "text": [
      "100%|██████████| 2/2 [00:00<00:00,  3.22it/s]\n"
     ]
    },
    {
     "name": "stdout",
     "output_type": "stream",
     "text": [
      "/data/atlas/.repo_cache_10 expansion_features=30_layers=5_dataset=majajhong\n"
     ]
    },
    {
     "name": "stderr",
     "output_type": "stream",
     "text": [
      "100%|██████████| 2/2 [00:01<00:00,  1.86it/s]\n"
     ]
    },
    {
     "name": "stdout",
     "output_type": "stream",
     "text": [
      "/data/atlas/.repo_cache_10 expansion_features=300_layers=5_dataset=majajhong\n"
     ]
    },
    {
     "name": "stderr",
     "output_type": "stream",
     "text": [
      "100%|██████████| 2/2 [00:02<00:00,  1.37s/it]\n"
     ]
    },
    {
     "name": "stdout",
     "output_type": "stream",
     "text": [
      "/data/atlas/.repo_cache_10 expansion_features=3000_layers=5_dataset=majajhong\n"
     ]
    },
    {
     "name": "stderr",
     "output_type": "stream",
     "text": [
      "100%|██████████| 2/2 [00:23<00:00, 11.97s/it]\n"
     ]
    },
    {
     "name": "stdout",
     "output_type": "stream",
     "text": [
      "/data/atlas/.repo_cache_10 expansion_features=30000_layers=5_dataset=majajhong\n"
     ]
    },
    {
     "name": "stderr",
     "output_type": "stream",
     "text": [
      "100%|██████████| 2/2 [03:35<00:00, 107.67s/it]\n"
     ]
    },
    {
     "name": "stdout",
     "output_type": "stream",
     "text": [
      "computing RSA for model: fully_connected\n",
      "/data/atlas/.repo_cache_10 fully_connected_features=108_layers=5_dataset=majajhong\n"
     ]
    },
    {
     "name": "stderr",
     "output_type": "stream",
     "text": [
      "100%|██████████| 2/2 [00:01<00:00,  1.90it/s]\n"
     ]
    },
    {
     "name": "stdout",
     "output_type": "stream",
     "text": [
      "/data/atlas/.repo_cache_10 fully_connected_features=1080_layers=5_dataset=majajhong\n"
     ]
    },
    {
     "name": "stderr",
     "output_type": "stream",
     "text": [
      "100%|██████████| 2/2 [00:00<00:00,  2.50it/s]\n"
     ]
    },
    {
     "name": "stdout",
     "output_type": "stream",
     "text": [
      "/data/atlas/.repo_cache_10 fully_connected_features=10800_layers=5_dataset=majajhong\n"
     ]
    },
    {
     "name": "stderr",
     "output_type": "stream",
     "text": [
      "100%|██████████| 2/2 [00:03<00:00,  1.87s/it]\n"
     ]
    },
    {
     "name": "stdout",
     "output_type": "stream",
     "text": [
      "/data/atlas/.repo_cache_10 fully_connected_features=108000_layers=5_dataset=majajhong\n"
     ]
    },
    {
     "name": "stderr",
     "output_type": "stream",
     "text": [
      "100%|██████████| 2/2 [00:21<00:00, 10.66s/it]\n"
     ]
    },
    {
     "name": "stdout",
     "output_type": "stream",
     "text": [
      "/data/atlas/.repo_cache_10 fully_connected_features=1080000_layers=5_dataset=majajhong\n"
     ]
    },
    {
     "name": "stderr",
     "output_type": "stream",
     "text": [
      "100%|██████████| 2/2 [03:45<00:00, 112.97s/it]\n"
     ]
    },
    {
     "name": "stdout",
     "output_type": "stream",
     "text": [
      "computing RSA for model: vit\n",
      "/data/atlas/.repo_cache_10 vit_features=12_layers=None_dataset=majajhong\n"
     ]
    },
    {
     "name": "stderr",
     "output_type": "stream",
     "text": [
      "100%|██████████| 2/2 [00:01<00:00,  1.57it/s]\n"
     ]
    },
    {
     "name": "stdout",
     "output_type": "stream",
     "text": [
      "/data/atlas/.repo_cache_10 vit_features=60_layers=None_dataset=majajhong\n"
     ]
    },
    {
     "name": "stderr",
     "output_type": "stream",
     "text": [
      "100%|██████████| 2/2 [00:03<00:00,  1.68s/it]\n"
     ]
    },
    {
     "name": "stdout",
     "output_type": "stream",
     "text": [
      "/data/atlas/.repo_cache_10 vit_features=600_layers=None_dataset=majajhong\n"
     ]
    },
    {
     "name": "stderr",
     "output_type": "stream",
     "text": [
      "100%|██████████| 2/2 [00:22<00:00, 11.32s/it]\n"
     ]
    },
    {
     "name": "stdout",
     "output_type": "stream",
     "text": [
      "/data/atlas/.repo_cache_10 vit_features=6000_layers=None_dataset=majajhong\n"
     ]
    },
    {
     "name": "stderr",
     "output_type": "stream",
     "text": [
      "100%|██████████| 2/2 [04:16<00:00, 128.43s/it]\n"
     ]
    },
    {
     "name": "stdout",
     "output_type": "stream",
     "text": [
      "computing RSA for model: alexnet\n",
      "/data/atlas/.repo_cache_10 alexnet_conv5_layers=5_features=256_dataset=majajhong\n"
     ]
    },
    {
     "name": "stderr",
     "output_type": "stream",
     "text": [
      "100%|██████████| 2/2 [00:02<00:00,  1.13s/it]\n"
     ]
    }
   ],
   "source": [
    "rsa_dict = {}\n",
    "models = ['expansion','fully_connected','vit']\n",
    "alexnet_iden = f'alexnet_conv5_layers=5_features=256_dataset={dataset}'\n",
    "\n",
    "for model_name in models:\n",
    "    print(f'computing RSA for model: {model_name}')\n",
    "    rsa_dict[model_name] = []\n",
    "    model_idens = []\n",
    "    for features in cfg[dataset]['models'][model_name]['features']:\n",
    "        activation_iden = load_full_identifier(model_name=model_name, \n",
    "                             features = features, \n",
    "                             layers=cfg[dataset]['models'][model_name]['layers'], \n",
    "                             dataset=dataset)\n",
    "        model_idens.append(activation_iden) \n",
    "    match dataset:\n",
    "        case 'majajhong':\n",
    "            for iden in model_idens:\n",
    "                rsa_dict[model_name].append(compute_rsa_majajhong(iden, region))\n",
    "        case 'naturalscenes':\n",
    "            for iden in model_idens:\n",
    "                rsa_dict[model_name].append(compute_rsa_nsd(iden, region))\n",
    "\n",
    "print(f'computing RSA for model: alexnet')\n",
    "match dataset:\n",
    "    case 'majajhong':\n",
    "        rsa_alexnet = compute_rsa_majajhong(iden=alexnet_iden,region=region)\n",
    "    case 'naturalscenes':\n",
    "        rsa_alexnet = compute_rsa_nsd(iden=alexnet_iden,region=region)       "
   ]
  },
  {
   "cell_type": "code",
   "execution_count": 9,
   "id": "d0e7fd7b-e383-40d5-a2bc-be7ea5b0716c",
   "metadata": {},
   "outputs": [
    {
     "data": {
      "image/png": "[encoded data removed]",
      "text/plain": [
       "<Figure size 600x600 with 1 Axes>"
      ]
     },
     "metadata": {},
     "output_type": "display_data"
    }
   ],
   "source": [
    "from matplotlib.pyplot import rcParams\n",
    "import matplotlib.pyplot as plt\n",
    "import seaborn as sns\n",
    "# from notebooks.plotting_tools import *\n",
    "\n",
    "rcParams['figure.figsize'] = (6,6)  \n",
    "legend_dict ={'expansion':('Convolutional','royalblue'),\n",
    "        'vit':('Transformer','palevioletred'),\n",
    "        'fully_connected':('Fully connected','darkviolet')}\n",
    "\n",
    "# main plot\n",
    "for model_name in models:\n",
    "    features = cfg[dataset]['models'][model_name]['features']\n",
    "    if model_name == 'expansion':\n",
    "        features = [f*36 for f in features] \n",
    "    elif model_name == 'vit':\n",
    "        features = [f*196 for f in features] \n",
    "    else:\n",
    "        pass\n",
    "    \n",
    "    ax1 = sns.lineplot(x=features, \n",
    "                       y=rsa_dict[model_name], \n",
    "                       c=legend_dict[model_name][1], \n",
    "                       label=legend_dict[model_name][0])\n",
    "# alexnet \n",
    "plt.axhline(y=rsa_alexnet, color='gray', linestyle='--', label='AlexNet')\n",
    "\n",
    "plt.xlabel('Features',size=15)\n",
    "plt.ylabel('Similarity (Pearson r)',size=15)\n",
    "plt.ylim(0,0.3) if dataset == 'naturalscenes' else plt.ylim(0,0.3)\n",
    "plt.xticks(size=15)\n",
    "plt.yticks(size=15)\n",
    "plt.title(f'RSA results for {dataset}: {region}',size=15)\n",
    "ax1.set_xscale(\"log\")    \n",
    "if region != 'V4':\n",
    "    ax1.legend()\n",
    "    ax1.get_legend().remove()\n",
    "plt.savefig(os.path.join(FIGURES_ADDITIONAL, f'rsa_{dataset}_{region}.png'))\n",
    "plt.show()"
   ]
  },
  {
   "cell_type": "code",
   "execution_count": null,
   "id": "936a221d",
   "metadata": {},
   "outputs": [],
   "source": []
  }
 ],
 "metadata": {
  "kernelspec": {
   "display_name": "repo_test",
   "language": "python",
   "name": "python3"
  },
  "language_info": {
   "codemirror_mode": {
    "name": "ipython",
    "version": 3
   },
   "file_extension": ".py",
   "mimetype": "text/x-python",
   "name": "python",
   "nbconvert_exporter": "python",
   "pygments_lexer": "ipython3",
   "version": "3.12.3"
  }
 },
 "nbformat": 4,
 "nbformat_minor": 5
}
