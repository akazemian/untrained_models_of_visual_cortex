{
 "cells": [
  {
   "cell_type": "code",
   "execution_count": 1,
   "id": "2b8aa6af-bf93-480e-8dba-d94fd652de65",
   "metadata": {},
   "outputs": [],
   "source": [
    "import numpy as np\n",
    "import matplotlib.pyplot as plt\n",
    "import seaborn as sns\n",
    "import os\n",
    "\n",
    "from config import CACHE, FIGURES\n",
    "from code_.encoding_score.regression.scores_tools import compute_bootstrap_distribution\n",
    "\n",
    "device = 'cuda'"
   ]
  },
  {
   "cell_type": "code",
   "execution_count": 4,
   "id": "34f22516",
   "metadata": {},
   "outputs": [],
   "source": [
    "# choose dataset\n",
    "\n",
    "batch_size = 10\n",
    "dataset = 'majajhong'\n",
    "subjects = ['Tito','Chabo']\n",
    "n_bootstraps = 1000\n",
    "n_rows = 640\n",
    "region = 'IT'\n",
    "features = 30000\n",
    "\n",
    "\n",
    "# batch_size = 10\n",
    "# dataset = 'naturalscenes'\n",
    "# subjects = [i for i in range(8)]\n",
    "# n_bootstraps = 1000\n",
    "# n_rows = 872\n",
    "# region = 'ventral visual stream'\n",
    "# features = 3000"
   ]
  },
  {
   "cell_type": "code",
   "execution_count": 5,
   "id": "42e94a56",
   "metadata": {},
   "outputs": [],
   "source": [
    "all_sampled_indices = np.random.choice(n_rows, (n_bootstraps, n_rows), replace=True) "
   ]
  },
  {
   "cell_type": "code",
   "execution_count": 6,
   "id": "2862806d-70a7-4cad-aa30-fd60dadbd4f8",
   "metadata": {},
   "outputs": [
    {
     "name": "stderr",
     "output_type": "stream",
     "text": [
      "100%|██████████| 2/2 [00:21<00:00, 10.64s/it]\n",
      "100%|██████████| 2/2 [00:23<00:00, 11.81s/it]\n",
      "100%|██████████| 2/2 [00:18<00:00,  9.42s/it]\n"
     ]
    }
   ],
   "source": [
    "activations_identifier = 'alexnet_expansion_concat'\n",
    "bootstrap_dist_joint = compute_bootstrap_distribution(activations_identifier, subjects, region,\n",
    "                                        all_sampled_indices, batch_size, \n",
    "                                        n_bootstraps, dataset, device)\n",
    "\n",
    "activations_identifier = f'expansion_features={features}_layers=5_dataset={dataset}_principal_components=1000'\n",
    "bootstrap_dist_expansion = compute_bootstrap_distribution(activations_identifier, subjects, region,\n",
    "                                        all_sampled_indices, batch_size, \n",
    "                                        n_bootstraps, dataset, device)\n",
    "\n",
    "activations_identifier = f'alexnet_conv5_layers=5_features=256_dataset={dataset}_principal_components=1000'\n",
    "bootstrap_dist_alexnet = compute_bootstrap_distribution(activations_identifier, subjects, region,\n",
    "                                        all_sampled_indices, batch_size, \n",
    "                                        n_bootstraps, dataset, device)\n",
    "\n"
   ]
  },
  {
   "cell_type": "code",
   "execution_count": 7,
   "id": "69766ab5-ca57-4448-a263-e96a5ca845e7",
   "metadata": {},
   "outputs": [
    {
     "name": "stdout",
     "output_type": "stream",
     "text": [
      "0.34927496\n",
      "0.26236397\n",
      "0.35128078\n"
     ]
    }
   ],
   "source": [
    "r_all = bootstrap_dist_joint.mean().cpu().numpy() **2\n",
    "r_expansion = bootstrap_dist_expansion.mean().cpu().numpy() **2\n",
    "r_alexnet = bootstrap_dist_alexnet.mean().cpu().numpy() **2\n",
    "\n",
    "print(r_alexnet)\n",
    "print(r_expansion)\n",
    "print(r_all)\n",
    "\n",
    "uniq_var_alexnet = r_all - r_expansion\n",
    "uniq_var_expansion = r_all - r_alexnet\n",
    "shared_var = (r_expansion + r_alexnet) - r_all\n",
    "\n",
    "names = ['Expansion', 'AlexNet','Shared']\n",
    "\n",
    "values = [uniq_var_expansion, uniq_var_alexnet, shared_var]"
   ]
  },
  {
   "cell_type": "code",
   "execution_count": 8,
   "id": "d0c76e1e-5b9a-42de-acbd-0656a23e2b32",
   "metadata": {},
   "outputs": [
    {
     "data": {
      "image/png": "[encoded data removed]",
      "text/plain": [
       "<Figure size 600x600 with 1 Axes>"
      ]
     },
     "metadata": {},
     "output_type": "display_data"
    }
   ],
   "source": [
    "# Initialize the figure\n",
    "plt.figure(figsize=(6, 6))\n",
    "\n",
    "color_map = {\n",
    "    'Expansion': 'royalblue',   \n",
    "    'AlexNet':  'gray',   \n",
    "    'Shared': 'mediumseagreen',  \n",
    "}\n",
    "\n",
    "palette = [color_map[n] for n in names]\n",
    "# Plot the connectivity analysis without 'Linear' model\n",
    "ax1 = sns.barplot(\n",
    "    x=names, \n",
    "    y=values, \n",
    "    palette=palette,\n",
    "    width=0.5\n",
    ")\n",
    "# Optional: Add labels and title for better understanding\n",
    "ax1.set_title(f'Variance partitioning: {dataset} {region}')\n",
    "\n",
    "ymin, ymax = 0.0, 0.04\n",
    "step = 0.01\n",
    "yticks = np.arange(ymin, ymax + step, step)\n",
    "ax1.set_yticks(yticks)\n",
    "\n",
    "ax1.tick_params(axis='x', labelsize=14)   # x-ticks at size 14\n",
    "ax1.tick_params(axis='y', labelsize=14)                # y-ticks at size 14\n",
    "\n",
    "# Axis labels\n",
    "ax1.set_xlabel('Model Names', fontsize=16)\n",
    "ax1.set_ylabel('R squared', fontsize=16)\n",
    "\n",
    "\n",
    "# Show the plot\n",
    "plt.tight_layout()\n",
    "plt.savefig(os.path.join(FIGURES,f'figure_S4_{dataset}_{region}.png'))\n",
    "plt.show()"
   ]
  },
  {
   "cell_type": "code",
   "execution_count": null,
   "id": "106f230c-89ef-4d73-97a1-646cd8895d36",
   "metadata": {},
   "outputs": [],
   "source": []
  }
 ],
 "metadata": {
  "kernelspec": {
   "display_name": "repo_test",
   "language": "python",
   "name": "python3"
  },
  "language_info": {
   "codemirror_mode": {
    "name": "ipython",
    "version": 3
   },
   "file_extension": ".py",
   "mimetype": "text/x-python",
   "name": "python",
   "nbconvert_exporter": "python",
   "pygments_lexer": "ipython3",
   "version": "3.12.3"
  }
 },
 "nbformat": 4,
 "nbformat_minor": 5
}
