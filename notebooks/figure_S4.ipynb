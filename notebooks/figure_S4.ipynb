{
 "cells": [
  {
   "cell_type": "code",
   "execution_count": 1,
   "id": "2b8aa6af-bf93-480e-8dba-d94fd652de65",
   "metadata": {},
   "outputs": [],
   "source": [
    "import numpy as np\n",
    "import matplotlib.pyplot as plt\n",
    "import seaborn as sns\n",
    "import os\n",
    "\n",
    "from config import CACHE, FIGURES\n",
    "from code_.encoding_score.regression.scores_tools import compute_bootstrap_distribution\n",
    "\n",
    "device = 'cuda'"
   ]
  },
  {
   "cell_type": "code",
   "execution_count": 2,
   "id": "34f22516",
   "metadata": {},
   "outputs": [],
   "source": [
    "# choose dataset\n",
    "\n",
    "batch_size = 10\n",
    "dataset = 'majajhong'\n",
    "subjects = ['Tito','Chabo']\n",
    "n_bootstraps = 1000\n",
    "n_rows = 640\n",
    "region = 'IT'\n",
    "features = 30000\n",
    "\n",
    "\n",
    "# batch_size = 10\n",
    "# dataset = 'naturalscenes'\n",
    "# subjects = [i for i in range(8)]\n",
    "# n_bootstraps = 1000\n",
    "# n_rows = 872\n",
    "# region = 'ventral visual stream'\n",
    "# features = 3000"
   ]
  },
  {
   "cell_type": "code",
   "execution_count": 3,
   "id": "42e94a56",
   "metadata": {},
   "outputs": [],
   "source": [
    "all_sampled_indices = np.random.choice(n_rows, (n_bootstraps, n_rows), replace=True) "
   ]
  },
  {
   "cell_type": "code",
   "execution_count": 4,
   "id": "2862806d-70a7-4cad-aa30-fd60dadbd4f8",
   "metadata": {},
   "outputs": [
    {
     "name": "stderr",
     "output_type": "stream",
     "text": [
      "  0%|          | 0/2 [00:00<?, ?it/s]"
     ]
    },
    {
     "name": "stderr",
     "output_type": "stream",
     "text": [
      "\n"
     ]
    },
    {
     "ename": "FileNotFoundError",
     "evalue": "[Errno 2] No such file or directory: '/data/atlas/expansion_cache/neural_preds/alexnet_expansion_concat_IT_Tito.pkl'",
     "output_type": "error",
     "traceback": [
      "\u001b[31m---------------------------------------------------------------------------\u001b[39m",
      "\u001b[31mFileNotFoundError\u001b[39m                         Traceback (most recent call last)",
      "\u001b[36mCell\u001b[39m\u001b[36m \u001b[39m\u001b[32mIn[4]\u001b[39m\u001b[32m, line 2\u001b[39m\n\u001b[32m      1\u001b[39m activations_identifier = \u001b[33m'\u001b[39m\u001b[33malexnet_expansion_concat\u001b[39m\u001b[33m'\u001b[39m\n\u001b[32m----> \u001b[39m\u001b[32m2\u001b[39m bootstrap_dist_joint = \u001b[43mcompute_bootstrap_distribution\u001b[49m\u001b[43m(\u001b[49m\u001b[43mactivations_identifier\u001b[49m\u001b[43m,\u001b[49m\u001b[43m \u001b[49m\u001b[43msubjects\u001b[49m\u001b[43m,\u001b[49m\u001b[43m \u001b[49m\u001b[43mregion\u001b[49m\u001b[43m,\u001b[49m\n\u001b[32m      3\u001b[39m \u001b[43m                                        \u001b[49m\u001b[43mall_sampled_indices\u001b[49m\u001b[43m,\u001b[49m\u001b[43m \u001b[49m\u001b[43mbatch_size\u001b[49m\u001b[43m,\u001b[49m\u001b[43m \u001b[49m\n\u001b[32m      4\u001b[39m \u001b[43m                                        \u001b[49m\u001b[43mn_bootstraps\u001b[49m\u001b[43m,\u001b[49m\u001b[43m \u001b[49m\u001b[43mdataset\u001b[49m\u001b[43m,\u001b[49m\u001b[43m \u001b[49m\u001b[43mdevice\u001b[49m\u001b[43m)\u001b[49m\n\u001b[32m      6\u001b[39m activations_identifier = \u001b[33mf\u001b[39m\u001b[33m'\u001b[39m\u001b[33mexpansion_features=\u001b[39m\u001b[38;5;132;01m{\u001b[39;00mfeatures\u001b[38;5;132;01m}\u001b[39;00m\u001b[33m_layers=5_dataset=\u001b[39m\u001b[38;5;132;01m{\u001b[39;00mdataset\u001b[38;5;132;01m}\u001b[39;00m\u001b[33m_principal_components=1000\u001b[39m\u001b[33m'\u001b[39m\n\u001b[32m      7\u001b[39m bootstrap_dist_expansion = compute_bootstrap_distribution(activations_identifier, subjects, region,\n\u001b[32m      8\u001b[39m                                         all_sampled_indices, batch_size, \n\u001b[32m      9\u001b[39m                                         n_bootstraps, dataset, device)\n",
      "\u001b[36mFile \u001b[39m\u001b[32m~/untrained_models_of_visual_cortex/code_/encoding_score/regression/scores_tools.py:201\u001b[39m, in \u001b[36mcompute_bootstrap_distribution\u001b[39m\u001b[34m(identifier, subjects, region, all_sampled_indices, batch_size, n_bootstraps, dataset, device)\u001b[39m\n\u001b[32m    199\u001b[39m \u001b[38;5;28;01mfor\u001b[39;00m subject \u001b[38;5;129;01min\u001b[39;00m tqdm(subjects):\n\u001b[32m    200\u001b[39m     preds_file_name = \u001b[33mf\u001b[39m\u001b[33m'\u001b[39m\u001b[38;5;132;01m{\u001b[39;00midentifier\u001b[38;5;132;01m}\u001b[39;00m\u001b[33m_\u001b[39m\u001b[38;5;132;01m{\u001b[39;00mregion\u001b[38;5;132;01m}\u001b[39;00m\u001b[33m_\u001b[39m\u001b[38;5;132;01m{\u001b[39;00msubject\u001b[38;5;132;01m}\u001b[39;00m\u001b[33m.pkl\u001b[39m\u001b[33m'\u001b[39m\n\u001b[32m--> \u001b[39m\u001b[32m201\u001b[39m     preds, test = \u001b[43mload_data\u001b[49m\u001b[43m(\u001b[49m\u001b[43mpreds_file_name\u001b[49m\u001b[43m,\u001b[49m\u001b[43m \u001b[49m\u001b[43mregion\u001b[49m\u001b[43m,\u001b[49m\u001b[43m \u001b[49m\u001b[43msubject\u001b[49m\u001b[43m,\u001b[49m\u001b[43m \u001b[49m\u001b[43mdataset\u001b[49m\u001b[43m)\u001b[49m\n\u001b[32m    202\u001b[39m     all_sampled_preds = preds[all_sampled_indices]\n\u001b[32m    203\u001b[39m     all_sampled_tests = test[all_sampled_indices]\n",
      "\u001b[36mFile \u001b[39m\u001b[32m~/untrained_models_of_visual_cortex/code_/encoding_score/regression/scores_tools.py:229\u001b[39m, in \u001b[36mload_data\u001b[39m\u001b[34m(preds_file_name, region, subject, dataset)\u001b[39m\n\u001b[32m    227\u001b[39m \u001b[38;5;28;01mdef\u001b[39;00m\u001b[38;5;250m \u001b[39m\u001b[34mload_data\u001b[39m(preds_file_name, region, subject, dataset):\n\u001b[32m--> \u001b[39m\u001b[32m229\u001b[39m     \u001b[38;5;28;01mwith\u001b[39;00m \u001b[38;5;28;43mopen\u001b[39;49m\u001b[43m(\u001b[49m\u001b[43mos\u001b[49m\u001b[43m.\u001b[49m\u001b[43mpath\u001b[49m\u001b[43m.\u001b[49m\u001b[43mjoin\u001b[49m\u001b[43m(\u001b[49m\u001b[43mPREDS_PATH\u001b[49m\u001b[43m,\u001b[49m\u001b[43m \u001b[49m\u001b[43mpreds_file_name\u001b[49m\u001b[43m)\u001b[49m\u001b[43m,\u001b[49m\u001b[43m \u001b[49m\u001b[33;43m'\u001b[39;49m\u001b[33;43mrb\u001b[39;49m\u001b[33;43m'\u001b[39;49m\u001b[43m)\u001b[49m \u001b[38;5;28;01mas\u001b[39;00m file:\n\u001b[32m    230\u001b[39m             preds = torch.Tensor(pickle.load(file))\n\u001b[32m    231\u001b[39m     \u001b[38;5;28;01mif\u001b[39;00m \u001b[33m'\u001b[39m\u001b[33mnaturalscenes\u001b[39m\u001b[33m'\u001b[39m \u001b[38;5;129;01min\u001b[39;00m dataset:\n",
      "\u001b[31mFileNotFoundError\u001b[39m: [Errno 2] No such file or directory: '/data/atlas/expansion_cache/neural_preds/alexnet_expansion_concat_IT_Tito.pkl'"
     ]
    }
   ],
   "source": [
    "activations_identifier = 'alexnet_expansion_concat'\n",
    "bootstrap_dist_joint = compute_bootstrap_distribution(activations_identifier, subjects, region,\n",
    "                                        all_sampled_indices, batch_size, \n",
    "                                        n_bootstraps, dataset, device)\n",
    "\n",
    "activations_identifier = f'expansion_features={features}_layers=5_dataset={dataset}_principal_components=1000'\n",
    "bootstrap_dist_expansion = compute_bootstrap_distribution(activations_identifier, subjects, region,\n",
    "                                        all_sampled_indices, batch_size, \n",
    "                                        n_bootstraps, dataset, device)\n",
    "\n",
    "activations_identifier = f'alexnet_conv5_layers=5_features=256_dataset={dataset}_principal_components=1000'\n",
    "bootstrap_dist_alexnet = compute_bootstrap_distribution(activations_identifier, subjects, region,\n",
    "                                        all_sampled_indices, batch_size, \n",
    "                                        n_bootstraps, dataset, device)\n",
    "\n"
   ]
  },
  {
   "cell_type": "code",
   "execution_count": 5,
   "id": "69766ab5-ca57-4448-a263-e96a5ca845e7",
   "metadata": {},
   "outputs": [
    {
     "ename": "NameError",
     "evalue": "name 'bootstrap_dist_joint' is not defined",
     "output_type": "error",
     "traceback": [
      "\u001b[31m---------------------------------------------------------------------------\u001b[39m",
      "\u001b[31mNameError\u001b[39m                                 Traceback (most recent call last)",
      "\u001b[36mCell\u001b[39m\u001b[36m \u001b[39m\u001b[32mIn[5]\u001b[39m\u001b[32m, line 1\u001b[39m\n\u001b[32m----> \u001b[39m\u001b[32m1\u001b[39m r_all = \u001b[43mbootstrap_dist_joint\u001b[49m.mean().cpu().numpy() **\u001b[32m2\u001b[39m\n\u001b[32m      2\u001b[39m r_expansion = bootstrap_dist_expansion.mean().cpu().numpy() **\u001b[32m2\u001b[39m\n\u001b[32m      3\u001b[39m r_alexnet = bootstrap_dist_alexnet.mean().cpu().numpy() **\u001b[32m2\u001b[39m\n",
      "\u001b[31mNameError\u001b[39m: name 'bootstrap_dist_joint' is not defined"
     ]
    }
   ],
   "source": [
    "r_all = bootstrap_dist_joint.mean().cpu().numpy() **2\n",
    "r_expansion = bootstrap_dist_expansion.mean().cpu().numpy() **2\n",
    "r_alexnet = bootstrap_dist_alexnet.mean().cpu().numpy() **2\n",
    "\n",
    "print(r_alexnet)\n",
    "print(r_expansion)\n",
    "print(r_all)\n",
    "\n",
    "uniq_var_alexnet = r_all - r_expansion\n",
    "uniq_var_expansion = r_all - r_alexnet\n",
    "shared_var = (r_expansion + r_alexnet) - r_all\n",
    "\n",
    "names = ['Expansion', 'AlexNet','Shared']\n",
    "\n",
    "values = [uniq_var_expansion, uniq_var_alexnet, shared_var]"
   ]
  },
  {
   "cell_type": "code",
   "execution_count": 6,
   "id": "d0c76e1e-5b9a-42de-acbd-0656a23e2b32",
   "metadata": {},
   "outputs": [
    {
     "ename": "NameError",
     "evalue": "name 'names' is not defined",
     "output_type": "error",
     "traceback": [
      "\u001b[31m---------------------------------------------------------------------------\u001b[39m",
      "\u001b[31mNameError\u001b[39m                                 Traceback (most recent call last)",
      "\u001b[36mCell\u001b[39m\u001b[36m \u001b[39m\u001b[32mIn[6]\u001b[39m\u001b[32m, line 10\u001b[39m\n\u001b[32m      2\u001b[39m plt.figure(figsize=(\u001b[32m6\u001b[39m, \u001b[32m6\u001b[39m))\n\u001b[32m      4\u001b[39m color_map = {\n\u001b[32m      5\u001b[39m     \u001b[33m'\u001b[39m\u001b[33mExpansion\u001b[39m\u001b[33m'\u001b[39m: \u001b[33m'\u001b[39m\u001b[33mroyalblue\u001b[39m\u001b[33m'\u001b[39m,   \n\u001b[32m      6\u001b[39m     \u001b[33m'\u001b[39m\u001b[33mAlexNet\u001b[39m\u001b[33m'\u001b[39m:  \u001b[33m'\u001b[39m\u001b[33mgray\u001b[39m\u001b[33m'\u001b[39m,   \n\u001b[32m      7\u001b[39m     \u001b[33m'\u001b[39m\u001b[33mShared\u001b[39m\u001b[33m'\u001b[39m: \u001b[33m'\u001b[39m\u001b[33mmediumseagreen\u001b[39m\u001b[33m'\u001b[39m,  \n\u001b[32m      8\u001b[39m }\n\u001b[32m---> \u001b[39m\u001b[32m10\u001b[39m palette = [color_map[n] \u001b[38;5;28;01mfor\u001b[39;00m n \u001b[38;5;129;01min\u001b[39;00m \u001b[43mnames\u001b[49m]\n\u001b[32m     11\u001b[39m \u001b[38;5;66;03m# Plot the connectivity analysis without 'Linear' model\u001b[39;00m\n\u001b[32m     12\u001b[39m ax1 = sns.barplot(\n\u001b[32m     13\u001b[39m     x=names, \n\u001b[32m     14\u001b[39m     y=values, \n\u001b[32m     15\u001b[39m     palette=palette,\n\u001b[32m     16\u001b[39m     width=\u001b[32m0.5\u001b[39m\n\u001b[32m     17\u001b[39m )\n",
      "\u001b[31mNameError\u001b[39m: name 'names' is not defined"
     ]
    },
    {
     "data": {
      "text/plain": [
       "<Figure size 600x600 with 0 Axes>"
      ]
     },
     "metadata": {},
     "output_type": "display_data"
    }
   ],
   "source": [
    "# Initialize the figure\n",
    "plt.figure(figsize=(6, 6))\n",
    "\n",
    "color_map = {\n",
    "    'Expansion': 'royalblue',   \n",
    "    'AlexNet':  'gray',   \n",
    "    'Shared': 'mediumseagreen',  \n",
    "}\n",
    "\n",
    "palette = [color_map[n] for n in names]\n",
    "# Plot the connectivity analysis without 'Linear' model\n",
    "ax1 = sns.barplot(\n",
    "    x=names, \n",
    "    y=values, \n",
    "    palette=palette,\n",
    "    width=0.5\n",
    ")\n",
    "# Optional: Add labels and title for better understanding\n",
    "ax1.set_title(f'Variance partitioning: {dataset} {region}')\n",
    "\n",
    "ymin, ymax = 0.0, 0.04\n",
    "step = 0.01\n",
    "yticks = np.arange(ymin, ymax + step, step)\n",
    "ax1.set_yticks(yticks)\n",
    "\n",
    "ax1.tick_params(axis='x', labelsize=14)   # x-ticks at size 14\n",
    "ax1.tick_params(axis='y', labelsize=14)                # y-ticks at size 14\n",
    "\n",
    "# Axis labels\n",
    "ax1.set_xlabel('Model Names', fontsize=16)\n",
    "ax1.set_ylabel('R squared', fontsize=16)\n",
    "\n",
    "\n",
    "# Show the plot\n",
    "plt.tight_layout()\n",
    "plt.savefig(os.path.join(FIGURES,f'figure_S4_{dataset}_{region}.png'))\n",
    "plt.show()"
   ]
  },
  {
   "cell_type": "code",
   "execution_count": null,
   "id": "106f230c-89ef-4d73-97a1-646cd8895d36",
   "metadata": {},
   "outputs": [],
   "source": []
  }
 ],
 "metadata": {
  "kernelspec": {
   "display_name": "expansion_model",
   "language": "python",
   "name": "python3"
  },
  "language_info": {
   "codemirror_mode": {
    "name": "ipython",
    "version": 3
   },
   "file_extension": ".py",
   "mimetype": "text/x-python",
   "name": "python",
   "nbconvert_exporter": "python",
   "pygments_lexer": "ipython3",
   "version": "3.12.0"
  }
 },
 "nbformat": 4,
 "nbformat_minor": 5
}
