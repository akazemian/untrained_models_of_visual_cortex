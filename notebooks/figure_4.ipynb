{
 "cells": [
  {
   "cell_type": "markdown",
   "id": "74bacf0b",
   "metadata": {},
   "source": []
  },
  {
   "cell_type": "code",
   "execution_count": 3,
   "id": "053b8ba5-eb73-472c-857a-c7d83c77760f",
   "metadata": {},
   "outputs": [],
   "source": [
    "import os\n",
    "import sys\n",
    "\n",
    "import xarray as xr\n",
    "import numpy as np\n",
    "import cv2\n",
    "from sklearn.manifold import TSNE\n",
    "import matplotlib.pyplot as plt\n",
    "import umap\n",
    "\n",
    "# Get the current working directory\n",
    "CURRENT_DIR = os.getcwd()\n",
    "\n",
    "# Set the root directory to the parent of the current directory\n",
    "ROOT = os.path.abspath(os.path.join(CURRENT_DIR, os.pardir))\n",
    "sys.path.insert(0, ROOT)\n",
    "\n",
    "from code_.tools.loading import load_nsd_images\n",
    "from code_.encoding_score.benchmarks.nsd import filter_activations, load_nsd_data\n",
    "from code_.model_activations.loading import load_full_identifier\n",
    "\n",
    "from config import RESULTS, FIGURES, CACHE\n",
    "\n"
   ]
  },
  {
   "cell_type": "markdown",
   "id": "511cf4fa-7034-442a-8197-604c0bd133e4",
   "metadata": {
    "tags": []
   },
   "source": [
    "# tSNE"
   ]
  },
  {
   "cell_type": "code",
   "execution_count": 4,
   "id": "50d7a55d",
   "metadata": {},
   "outputs": [],
   "source": [
    "\n",
    "import os\n",
    "import numpy as np\n",
    "import cv2\n",
    "import matplotlib.pyplot as plt\n",
    "import umap\n",
    "from sklearn.manifold import TSNE\n",
    "\n",
    "# Ensure required packages are installed: pip install umap-learn opencv-python matplotlib scikit-learn\n",
    "\n",
    "def scale_to_01_range(x):\n",
    "    \"\"\"Scale values between 0 and 1.\"\"\"\n",
    "    value_range = np.max(x) - np.min(x)\n",
    "    return (x - np.min(x)) / value_range if value_range != 0 else x\n",
    "\n",
    "def compute_plot_coordinates(image, x, y, image_centers_area_size, offset):\n",
    "    \"\"\"Compute image positions on the plot.\"\"\"\n",
    "    image_height, image_width, _ = image.shape\n",
    "    center_x = int(image_centers_area_size * x) + offset\n",
    "    center_y = int(image_centers_area_size * (1 - y)) + offset  # Mirror y-axis\n",
    "\n",
    "    tl_x = center_x - int(image_width / 2)\n",
    "    tl_y = center_y - int(image_height / 2)\n",
    "    br_x = tl_x + image_width\n",
    "    br_y = tl_y + image_height\n",
    "\n",
    "    return tl_x, tl_y, br_x, br_y\n",
    "\n",
    "def scale_image(image, max_image_size):\n",
    "    \"\"\"Resize images while maintaining aspect ratio.\"\"\"\n",
    "    image_height, image_width, _ = image.shape\n",
    "    scale = max(1, image_width / max_image_size, image_height / max_image_size)\n",
    "    image_width = int(image_width / scale)\n",
    "    image_height = int(image_height / scale)\n",
    "\n",
    "    return cv2.resize(image, (image_width, image_height))\n",
    "\n",
    "def get_embeddings(data, method=\"UMAP\"):\n",
    "    \"\"\"\n",
    "    Perform dimensionality reduction (UMAP or t-SNE) and visualize images.\n",
    "    \n",
    "    Parameters:\n",
    "    - data: (N, D) numpy array of feature vectors.\n",
    "    - images: List of image paths corresponding to each data point.\n",
    "    - name: Output filename.\n",
    "    - method: Choose between \"UMAP\" and \"tSNE\".\n",
    "    - dpi: Resolution of the output plot.\n",
    "    - plot_size: Size of the final visualization.\n",
    "    - max_image_size: Max image size on the plot.\n",
    "    \"\"\"\n",
    "\n",
    "    # Perform dimensionality reduction\n",
    "    if method.lower() == \"umap\":\n",
    "        reducer = umap.UMAP(n_components=2, random_state=42)\n",
    "        embedding = reducer.fit_transform(data)\n",
    "    elif method.lower() == \"tsne\":\n",
    "        reducer = TSNE(n_components=2, random_state=42, perplexity=30)\n",
    "        embedding = reducer.fit_transform(data)\n",
    "    else:\n",
    "        raise ValueError(\"Invalid method! Choose 'UMAP' or 'tSNE'.\")\n",
    "\n",
    "    return embedding\n",
    "    \n",
    "\n",
    "def visualize_embeddings(embedding, images, save_path,  method, dpi=300, plot_size=1000, max_image_size=50):\n",
    "    # Normalize the reduced output to [0,1] range\n",
    "    tx = scale_to_01_range(embedding[:, 0])\n",
    "    ty = scale_to_01_range(embedding[:, 1])\n",
    "\n",
    "    # Set up the visualization plot\n",
    "    offset = max_image_size // 2\n",
    "    image_centers_area_size = plot_size - 2 * offset\n",
    "    plot_canvas = 255 * np.ones((plot_size, plot_size, 3), np.uint8)\n",
    "\n",
    "    # Place images on the scatter plot\n",
    "    for i in range(len(images)):\n",
    "        x, y = tx[i], ty[i]\n",
    "        try:\n",
    "            image = cv2.imread(images[i])\n",
    "            image = scale_image(image, max_image_size)\n",
    "            tl_x, tl_y, br_x, br_y = compute_plot_coordinates(image, x, y, image_centers_area_size, offset)\n",
    "            plot_canvas[tl_y:br_y, tl_x:br_x, :] = image  # Place image on plot\n",
    "        except AttributeError:\n",
    "            pass  # Ignore images that fail to load\n",
    "\n",
    "    # Plot and save figure\n",
    "    fig = plt.figure(figsize=(80, 50), dpi=300)\n",
    "    plt.imshow(plot_canvas[:, :, ::-1])\n",
    "    plt.axis(\"off\")\n",
    "    plt.title(f\"{method} Visualization\", fontsize=50)\n",
    "    plt.savefig(save_path, dpi=dpi)\n",
    "    plt.show()"
   ]
  },
  {
   "cell_type": "code",
   "execution_count": 5,
   "id": "2a7a2630",
   "metadata": {},
   "outputs": [],
   "source": [
    "# load model activations\n",
    "CACHE = '/data/atlas/.repo_cache_10'\n",
    "identifier = load_full_identifier(model_name='expansion', features=3, layers=5, dataset='naturalscenes')\n",
    "features = xr.open_dataarray(os.path.join(CACHE,'activations',identifier),engine='netcdf4')\n",
    "\n",
    "# load images seen by subject 1\n",
    "subject = 1\n",
    "IDS = load_nsd_data(mode='unshared', subject=subject, region='early visual stream')[0]\n",
    "images  = [image for image in load_nsd_images() if os.path.basename(image).strip('.png') in IDS]\n",
    "\n",
    "# filter activations for images seen by subject 1\n",
    "features = filter_activations(features, IDS)\n",
    "\n",
    "# tsne_ints = TSNE(n_components=2).fit_transform(features)\n",
    "# tx = tsne_ints[:, 0]\n",
    "# ty = tsne_ints[:, 1]\n",
    "# tx = scale_to_01_range(tx)\n",
    "# ty = scale_to_01_range(ty)\n",
    "# dpi  = 800\n",
    "# # visualize \n",
    "# visualize_tsne_images(tx, ty, images, \n",
    "#                       dpi = dpi, \n",
    "#                       plot_size=1000, \n",
    "#                       max_image_size=10)"
   ]
  },
  {
   "cell_type": "code",
   "execution_count": 4,
   "id": "f14c0546",
   "metadata": {},
   "outputs": [],
   "source": [
    "# plot umap or tsne\n",
    "method = 'tsne'\n",
    "save_path = os.path.join(FIGURES, f'{method.lower()}- subject={subject}.png')\n",
    "embedding = get_embeddings(features, method)"
   ]
  },
  {
   "cell_type": "code",
   "execution_count": 2,
   "id": "a98da4e0",
   "metadata": {},
   "outputs": [
    {
     "ename": "NameError",
     "evalue": "name 'visualize_embeddings' is not defined",
     "output_type": "error",
     "traceback": [
      "\u001b[31m---------------------------------------------------------------------------\u001b[39m",
      "\u001b[31mNameError\u001b[39m                                 Traceback (most recent call last)",
      "\u001b[36mCell\u001b[39m\u001b[36m \u001b[39m\u001b[32mIn[2]\u001b[39m\u001b[32m, line 1\u001b[39m\n\u001b[32m----> \u001b[39m\u001b[32m1\u001b[39m \u001b[43mvisualize_embeddings\u001b[49m(embedding, images, save_path,  method, max_image_size=\u001b[32m10\u001b[39m)\n",
      "\u001b[31mNameError\u001b[39m: name 'visualize_embeddings' is not defined"
     ]
    }
   ],
   "source": [
    "visualize_embeddings(embedding, images, save_path,  method, max_image_size=10)"
   ]
  },
  {
   "cell_type": "code",
   "execution_count": null,
   "id": "bb12c4b5",
   "metadata": {},
   "outputs": [],
   "source": []
  },
  {
   "cell_type": "code",
   "execution_count": null,
   "id": "b1ca9325",
   "metadata": {},
   "outputs": [],
   "source": []
  }
 ],
 "metadata": {
  "kernelspec": {
   "display_name": "expansion_model",
   "language": "python",
   "name": "python3"
  },
  "language_info": {
   "codemirror_mode": {
    "name": "ipython",
    "version": 3
   },
   "file_extension": ".py",
   "mimetype": "text/x-python",
   "name": "python",
   "nbconvert_exporter": "python",
   "pygments_lexer": "ipython3",
   "version": "3.12.0"
  }
 },
 "nbformat": 4,
 "nbformat_minor": 5
}
