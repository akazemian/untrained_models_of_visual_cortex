{
 "cells": [
  {
   "cell_type": "code",
   "execution_count": 163,
   "id": "d97557d1",
   "metadata": {},
   "outputs": [],
   "source": [
    "import pandas as pd\n",
    "import numpy as np\n",
    "from matplotlib.pyplot import rcParams\n",
    "import matplotlib.pyplot as plt\n",
    "import seaborn as sns\n",
    "import os\n",
    "import pickle\n",
    "\n",
    "from config import RESULTS, FIGURES\n",
    "from code_.tools.plotting import *\n",
    "from code_.model_activations.configs import model_cfg\n",
    "y_lim = {'naturalscenes':0.5, 'majajhong': 0.92, 'things':0.15}"
   ]
  },
  {
   "cell_type": "code",
   "execution_count": 164,
   "id": "518ac500-1d45-47c2-9ee4-64ca4b810244",
   "metadata": {},
   "outputs": [],
   "source": [
    "models_features_config = {\n",
    "    'fully_connected': {'multiplier': 1},\n",
    "    'vit': {'multiplier': 196},\n",
    "    'expansion': {'multiplier': 36},\n",
    "}\n",
    "\n",
    "def load_and_prepare_data(model_name, multiplier, dataset, region):\n",
    "    filepath = os.path.join(RESULTS, f'bootstrap-results-{model_name}-{dataset}-{region}.csv')\n",
    "    df = pd.read_csv(filepath)\n",
    "    df['model'] = model_name\n",
    "    df['features'] = df['features'].apply(lambda x: int(x) * multiplier)\n",
    "    df['score'] = df['score'].apply(lambda x: float(x.replace(\"tensor(\", \"\").replace(\")\", \"\")))\n",
    "    return df"
   ]
  },
  {
   "cell_type": "markdown",
   "id": "e7e253e5-8e39-4176-aa34-3df2dac0f1ee",
   "metadata": {},
   "source": [
    "# Main results"
   ]
  },
  {
   "cell_type": "code",
   "execution_count": 183,
   "id": "e7bba2e8-fd2e-4351-b170-e1490d72301f",
   "metadata": {},
   "outputs": [],
   "source": [
    "DATASET = 'naturalscenes' # one of ['majajhong', 'naturalscenes']\n",
    "region = 'ventral visual stream'\n",
    "\n",
    "\n",
    "# DATASET = 'majajhong' # one of ['majajhong', 'naturalscenes']\n",
    "# region = 'IT'\n",
    "\n",
    "# ['early visual stream', 'midventral visual stream','ventral visual stream'] \n",
    "# for majajhong: [V4,IT], for naturalscenes: [early visual stream, midventral visual stream, ventral visual stream]"
   ]
  },
  {
   "cell_type": "code",
   "execution_count": 184,
   "id": "291cd6cb-a02d-4b71-a6a4-dc0f2646dca2",
   "metadata": {},
   "outputs": [],
   "source": [
    "# DATASET = 'majajhong'#, 'naturalscenes']\n",
    "# regions = ['V4','IT']"
   ]
  },
  {
   "cell_type": "code",
   "execution_count": 185,
   "id": "c5d82023-8a25-49e0-b363-838650602423",
   "metadata": {},
   "outputs": [],
   "source": [
    "# untrained models results\n",
    "all_dfs = []\n",
    "# for region in regions:\n",
    "for model_name, config in models_features_config.items():\n",
    "    features_list = model_cfg[DATASET]['models'][model_name]['features']\n",
    "    df_model = load_and_prepare_data(model_name, config['multiplier'], DATASET, region)\n",
    "    df_model['region'] = region\n",
    "    all_dfs.append(df_model)\n",
    "\n",
    "# Combine all dataframes and reset index\n",
    "df = pd.concat(all_dfs).reset_index(drop=True)\n",
    "# from each untrained model family take the largest\n",
    "df  = df[df.features.isin([2352, 117600, 108, 108000])]\n"
   ]
  },
  {
   "cell_type": "code",
   "execution_count": 186,
   "id": "80f74803-4a0e-4839-985f-14216a54133f",
   "metadata": {},
   "outputs": [],
   "source": [
    "# SOTA models results\n",
    "\n",
    "models = ['alexnet_untrained','alexnet_trained','vit_untrained', 'vit_trained', 'resnet50_trained']\n",
    "\n",
    "# for region in regions:\n",
    "for model in models:\n",
    "    \n",
    "    # alexnet data\n",
    "    df_model = pd.read_csv(os.path.join(RESULTS, f'bootstrap-results-{model}-{DATASET}-{region}.csv'))\n",
    "    df_model['score'] = df_model['score'].apply(lambda x: float(x.replace(\"tensor(\", \"\").replace(\")\", \"\")))\n",
    "    df_model['region'] = region\n",
    "\n",
    "    df = pd.concat([df, df_model], ignore_index=True)"
   ]
  },
  {
   "cell_type": "code",
   "execution_count": 187,
   "id": "a3027dad",
   "metadata": {},
   "outputs": [],
   "source": [
    "# # noise ceiling results\n",
    "# for region in regions:        \n",
    "#     # alexnet data\n",
    "#     file_path = os.path.join(RESULTS, f'nc-results-{DATASET}-{region}.csv')\n",
    "#     df_nc = pd.read_csv(file_path)  \n",
    "#     df = pd.concat([df, df_nc], ignore_index=True)"
   ]
  },
  {
   "cell_type": "code",
   "execution_count": 188,
   "id": "e640dd7b-5ad7-4397-a38b-ade025d02bdb",
   "metadata": {},
   "outputs": [],
   "source": [
    "names ={'fully_connected':'FC',\n",
    "        'expansion':'Conv',\n",
    "        'vit':'Transformer',\n",
    "        'alexnet_untrained': 'AlexNet Untrained',\n",
    "        'alexnet_trained':'AlexNet',\n",
    "        'vit_trained': 'ViT',\n",
    "        'vit_untrained': 'ViT Untrained',\n",
    "        'resnet50_trained': 'BarlowTwins ResNet50',\n",
    "        # 'noise_ceiling': 'Noise Ceiling'\n",
    "        }\n",
    "\n",
    "df['model'] = df['model'].map(names)\n"
   ]
  },
  {
   "cell_type": "code",
   "execution_count": 189,
   "id": "0de47c17",
   "metadata": {},
   "outputs": [],
   "source": [
    "df['name'] = df[['model','features']].apply((lambda x: x.model if x.model not in ['FC','Conv', 'Transformer'] else (x.model + ' S') if x.features in [2352,108] else (x.model + ' L')), axis=1)"
   ]
  },
  {
   "cell_type": "code",
   "execution_count": 190,
   "id": "1f22df08",
   "metadata": {},
   "outputs": [],
   "source": [
    "\n",
    "palette = {\n",
    "    'Conv S':     '#A8DADC',  # eggshell blue\n",
    "    'Conv L':     '#1D3557',  # storm-blue navy\n",
    "\n",
    "    'Transformer S':       '#F4A261',  # pale sand\n",
    "    'Transformer L':       '#D17134',  # driftwood brown-orange\n",
    "\n",
    "    'FC S':                '#E9C46A',  # soft dune yellow\n",
    "    'FC L':                '#A0821F',  # deep mustard\n",
    "\n",
    "    'AlexNet':                 '#596275',  # slate gray\n",
    "    'AlexNet Untrained':       '#A9B2BC',  # light steel gray\n",
    "\n",
    "    'ViT':                     '#6A4C93',  # twilight purple\n",
    "    'ViT Untrained':           '#B8A9C9',  # lilac mist\n",
    "\n",
    "    'BarlowTwins ResNet50':    '#2A9D8F',  # teal wave\n",
    "\n",
    "    # 'Noise Ceiling':           '#000000',  # black\n",
    "}\n",
    "\n",
    "df['color'] = df['name'].map(palette)"
   ]
  },
  {
   "cell_type": "code",
   "execution_count": 194,
   "id": "9ff7dd09-5e1e-436f-8881-70a8e8be2834",
   "metadata": {},
   "outputs": [
    {
     "data": {
      "image/png": "[encoded data removed]",
      "text/plain": [
       "<Figure size 400x600 with 1 Axes>"
      ]
     },
     "metadata": {},
     "output_type": "display_data"
    }
   ],
   "source": [
    "import matplotlib.pyplot as plt\n",
    "import numpy as np\n",
    "import pandas as pd\n",
    "\n",
    "# Unique regions (groups) and models (bars within each group).\n",
    "models = df['name'].unique()\n",
    "n_regions = 1 #len(regions)\n",
    "n_models = len(models)\n",
    "\n",
    "# Width for each group and each bar within a group.\n",
    "group_width = 0.8  # total width per group\n",
    "bar_width = group_width / n_models\n",
    "\n",
    "# x positions for each group.\n",
    "x = np.arange(n_regions)\n",
    "\n",
    "if DATASET == 'majajhong':\n",
    "    fig, ax = plt.subplots(figsize=(5, 6))\n",
    "else:\n",
    "    fig, ax = plt.subplots(figsize=(4, 6))\n",
    "\n",
    "# Loop over each model to plot its bars.\n",
    "for i, model in enumerate(models):\n",
    "    scores = []\n",
    "    lower_errors = []\n",
    "    upper_errors = []\n",
    "    colors = []\n",
    "    # for region in regions:\n",
    "    row = df[(df['region'] == region) & (df['name'] == model)]\n",
    "    if not row.empty:\n",
    "        score = row['score'].values[0]\n",
    "        # Compute error bars as differences.\n",
    "        lower_err = score - row['lower'].values[0]\n",
    "        upper_err = row['upper'].values[0] - score\n",
    "        col = row['color'].values[0]\n",
    "    else:\n",
    "        score = np.nan\n",
    "        lower_err = 0\n",
    "        upper_err = 0\n",
    "        col = 'grey'\n",
    "    scores.append(score)\n",
    "    lower_errors.append(lower_err)\n",
    "    upper_errors.append(upper_err)\n",
    "    colors.append(col)\n",
    "    \n",
    "    # Determine positions for the current model's bars.\n",
    "    pos = x - group_width/2 + bar_width/2 + i * bar_width\n",
    "    \n",
    "    # Stack error values for plotting.\n",
    "    yerr = np.vstack([lower_errors, upper_errors])\n",
    "    \n",
    "    # Plot the bars with error bars.\n",
    "    bars = ax.bar(pos, scores, width=bar_width, color=colors, yerr=yerr, capsize=5, label=model)\n",
    "    \n",
    "    # Annotate each bar with the model name in vertical, bold, white text.\n",
    "    # We'll place the text at half the bar height.\n",
    "    for p, s in zip(pos, scores):\n",
    "        if not np.isnan(s):\n",
    "            ax.text(p, s / 2, model, ha='center', va='center',\n",
    "                    color='white', rotation=90, fontweight='bold', fontsize=10)\n",
    "\n",
    "# noise ceiling results\n",
    "file_path = os.path.join(RESULTS, f'nc-results-{DATASET}-{region}.csv')\n",
    "df_nc = pd.read_csv(file_path)  \n",
    "plt.axhline(y=df_nc['score'][0], color='blue', linestyle='dashdot', label='Noise Ceiling')\n",
    "\n",
    "plt.yticks(fontsize=14)   # increase y-tick label font size\n",
    "# Set x-axis ticks and labels.\n",
    "plt.xticks([])# ax.set_xlabel(\"Region\")\n",
    "ax.set_ylabel(\"Score\")\n",
    "ax.set_title(f\"{DATASET}: {region}\")\n",
    "plt.ylim(0,y_lim[DATASET])\n",
    "\n",
    "# ax.legend(title=\"Model\")\n",
    "plt.savefig(os.path.join(FIGURES, f'figure_S3_{DATASET}_{region}.png'), dpi=300) \n",
    "\n",
    "plt.tight_layout()\n",
    "plt.show()\n"
   ]
  },
  {
   "cell_type": "code",
   "execution_count": null,
   "id": "3af3aa1e-6fac-4e51-9335-7c454e133a5f",
   "metadata": {},
   "outputs": [],
   "source": []
  },
  {
   "cell_type": "code",
   "execution_count": null,
   "id": "c79afb31",
   "metadata": {},
   "outputs": [],
   "source": []
  },
  {
   "cell_type": "code",
   "execution_count": null,
   "id": "d53e0554",
   "metadata": {},
   "outputs": [],
   "source": []
  },
  {
   "cell_type": "code",
   "execution_count": null,
   "id": "b07c29f4",
   "metadata": {},
   "outputs": [],
   "source": []
  },
  {
   "cell_type": "code",
   "execution_count": null,
   "id": "3304f914",
   "metadata": {},
   "outputs": [],
   "source": []
  },
  {
   "cell_type": "code",
   "execution_count": null,
   "id": "cd5740d4",
   "metadata": {},
   "outputs": [],
   "source": []
  },
  {
   "cell_type": "code",
   "execution_count": null,
   "id": "b23c2ebf",
   "metadata": {},
   "outputs": [],
   "source": []
  },
  {
   "cell_type": "code",
   "execution_count": null,
   "id": "a8e4687c",
   "metadata": {},
   "outputs": [],
   "source": []
  }
 ],
 "metadata": {
  "kernelspec": {
   "display_name": "expansion_model",
   "language": "python",
   "name": "python3"
  },
  "language_info": {
   "codemirror_mode": {
    "name": "ipython",
    "version": 3
   },
   "file_extension": ".py",
   "mimetype": "text/x-python",
   "name": "python",
   "nbconvert_exporter": "python",
   "pygments_lexer": "ipython3",
   "version": "3.12.0"
  }
 },
 "nbformat": 4,
 "nbformat_minor": 5
}
