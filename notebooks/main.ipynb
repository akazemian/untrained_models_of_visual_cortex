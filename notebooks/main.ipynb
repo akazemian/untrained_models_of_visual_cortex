{
 "cells": [
  {
   "cell_type": "code",
   "execution_count": 3,
   "metadata": {},
   "outputs": [],
   "source": [
    "import torch\n",
    "from code_.model_activations.models.expansion import Expansion5L\n"
   ]
  },
  {
   "cell_type": "code",
   "execution_count": 17,
   "metadata": {},
   "outputs": [],
   "source": [
    "device = 'cuda'\n",
    "expansion = Expansion5L(filters_5 = 30, device = device).build() # 30 conv filters in the last layer, resulting in 30*6*6 features"
   ]
  },
  {
   "cell_type": "code",
   "execution_count": 18,
   "metadata": {},
   "outputs": [
    {
     "name": "stdout",
     "output_type": "stream",
     "text": [
      "Model(\n",
      "  (conv1): WaveletConvolution()\n",
      "  (pool1): AvgPool2d(kernel_size=2, stride=2, padding=0)\n",
      "  (conv2): Conv2d(108, 1000, kernel_size=(7, 7), stride=(1, 1), bias=False)\n",
      "  (pool2): AvgPool2d(kernel_size=2, stride=2, padding=0)\n",
      "  (conv3): Conv2d(1000, 3000, kernel_size=(5, 5), stride=(1, 1), bias=False)\n",
      "  (pool3): AvgPool2d(kernel_size=2, stride=2, padding=0)\n",
      "  (conv4): Conv2d(3000, 5000, kernel_size=(3, 3), stride=(1, 1), bias=False)\n",
      "  (pool4): AvgPool2d(kernel_size=2, stride=2, padding=0)\n",
      "  (conv5): Conv2d(5000, 30, kernel_size=(3, 3), stride=(1, 1), bias=False)\n",
      "  (pool5): AvgPool2d(kernel_size=4, stride=1, padding=0)\n",
      "  (nl): NonLinearity()\n",
      "  (last): Output()\n",
      ")\n"
     ]
    }
   ],
   "source": [
    "print(expansion)"
   ]
  },
  {
   "cell_type": "code",
   "execution_count": 19,
   "metadata": {},
   "outputs": [
    {
     "name": "stdout",
     "output_type": "stream",
     "text": [
      "torch.Size([1, 1080])\n"
     ]
    }
   ],
   "source": [
    "image = torch.rand(1,3,224,224)\n",
    "model_activations = expansion(image.to(device))\n",
    "print(model_activations.shape)"
   ]
  }
 ],
 "metadata": {
  "kernelspec": {
   "display_name": "expansion_model",
   "language": "python",
   "name": "python3"
  },
  "language_info": {
   "codemirror_mode": {
    "name": "ipython",
    "version": 3
   },
   "file_extension": ".py",
   "mimetype": "text/x-python",
   "name": "python",
   "nbconvert_exporter": "python",
   "pygments_lexer": "ipython3",
   "version": "3.12.0"
  }
 },
 "nbformat": 4,
 "nbformat_minor": 2
}
